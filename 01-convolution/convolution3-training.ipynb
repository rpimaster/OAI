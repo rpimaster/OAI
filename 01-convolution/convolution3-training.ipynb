{
  "cells": [
    {
      "cell_type": "markdown",
      "metadata": {
        "id": "view-in-github",
        "colab_type": "text"
      },
      "source": [
        "<a href=\"https://colab.research.google.com/github/rpimaster/OAI/blob/main/01-convolution/convolution3-training.ipynb\" target=\"_parent\"><img src=\"https://colab.research.google.com/assets/colab-badge.svg\" alt=\"Open In Colab\"/></a>"
      ]
    },
    {
      "cell_type": "code",
      "source": [
        "!test -f lena.jpg || wget https://raw.githubusercontent.com/opencv/opencv/master/samples/data/lena.jpg\n",
        "from google.colab import files\n",
        "import os\n",
        "print('lena-sobel.txt')\n",
        "while not os.path.exists('lena-sobel.txt'):\n",
        "    files.upload()"
      ],
      "metadata": {
        "id": "UWejoNfZdEKe",
        "outputId": "c22bee92-735d-4619-c402-62d7b16db450",
        "colab": {
          "base_uri": "https://localhost:8080/",
          "height": 90
        }
      },
      "id": "UWejoNfZdEKe",
      "execution_count": 2,
      "outputs": [
        {
          "output_type": "stream",
          "name": "stdout",
          "text": [
            "lena-sobel.txt\n"
          ]
        },
        {
          "output_type": "display_data",
          "data": {
            "text/plain": [
              "<IPython.core.display.HTML object>"
            ],
            "text/html": [
              "\n",
              "     <input type=\"file\" id=\"files-3a5052be-b1b1-434f-a580-2d3035ead379\" name=\"files[]\" multiple disabled\n",
              "        style=\"border:none\" />\n",
              "     <output id=\"result-3a5052be-b1b1-434f-a580-2d3035ead379\">\n",
              "      Upload widget is only available when the cell has been executed in the\n",
              "      current browser session. Please rerun this cell to enable.\n",
              "      </output>\n",
              "      <script>// Copyright 2017 Google LLC\n",
              "//\n",
              "// Licensed under the Apache License, Version 2.0 (the \"License\");\n",
              "// you may not use this file except in compliance with the License.\n",
              "// You may obtain a copy of the License at\n",
              "//\n",
              "//      http://www.apache.org/licenses/LICENSE-2.0\n",
              "//\n",
              "// Unless required by applicable law or agreed to in writing, software\n",
              "// distributed under the License is distributed on an \"AS IS\" BASIS,\n",
              "// WITHOUT WARRANTIES OR CONDITIONS OF ANY KIND, either express or implied.\n",
              "// See the License for the specific language governing permissions and\n",
              "// limitations under the License.\n",
              "\n",
              "/**\n",
              " * @fileoverview Helpers for google.colab Python module.\n",
              " */\n",
              "(function(scope) {\n",
              "function span(text, styleAttributes = {}) {\n",
              "  const element = document.createElement('span');\n",
              "  element.textContent = text;\n",
              "  for (const key of Object.keys(styleAttributes)) {\n",
              "    element.style[key] = styleAttributes[key];\n",
              "  }\n",
              "  return element;\n",
              "}\n",
              "\n",
              "// Max number of bytes which will be uploaded at a time.\n",
              "const MAX_PAYLOAD_SIZE = 100 * 1024;\n",
              "\n",
              "function _uploadFiles(inputId, outputId) {\n",
              "  const steps = uploadFilesStep(inputId, outputId);\n",
              "  const outputElement = document.getElementById(outputId);\n",
              "  // Cache steps on the outputElement to make it available for the next call\n",
              "  // to uploadFilesContinue from Python.\n",
              "  outputElement.steps = steps;\n",
              "\n",
              "  return _uploadFilesContinue(outputId);\n",
              "}\n",
              "\n",
              "// This is roughly an async generator (not supported in the browser yet),\n",
              "// where there are multiple asynchronous steps and the Python side is going\n",
              "// to poll for completion of each step.\n",
              "// This uses a Promise to block the python side on completion of each step,\n",
              "// then passes the result of the previous step as the input to the next step.\n",
              "function _uploadFilesContinue(outputId) {\n",
              "  const outputElement = document.getElementById(outputId);\n",
              "  const steps = outputElement.steps;\n",
              "\n",
              "  const next = steps.next(outputElement.lastPromiseValue);\n",
              "  return Promise.resolve(next.value.promise).then((value) => {\n",
              "    // Cache the last promise value to make it available to the next\n",
              "    // step of the generator.\n",
              "    outputElement.lastPromiseValue = value;\n",
              "    return next.value.response;\n",
              "  });\n",
              "}\n",
              "\n",
              "/**\n",
              " * Generator function which is called between each async step of the upload\n",
              " * process.\n",
              " * @param {string} inputId Element ID of the input file picker element.\n",
              " * @param {string} outputId Element ID of the output display.\n",
              " * @return {!Iterable<!Object>} Iterable of next steps.\n",
              " */\n",
              "function* uploadFilesStep(inputId, outputId) {\n",
              "  const inputElement = document.getElementById(inputId);\n",
              "  inputElement.disabled = false;\n",
              "\n",
              "  const outputElement = document.getElementById(outputId);\n",
              "  outputElement.innerHTML = '';\n",
              "\n",
              "  const pickedPromise = new Promise((resolve) => {\n",
              "    inputElement.addEventListener('change', (e) => {\n",
              "      resolve(e.target.files);\n",
              "    });\n",
              "  });\n",
              "\n",
              "  const cancel = document.createElement('button');\n",
              "  inputElement.parentElement.appendChild(cancel);\n",
              "  cancel.textContent = 'Cancel upload';\n",
              "  const cancelPromise = new Promise((resolve) => {\n",
              "    cancel.onclick = () => {\n",
              "      resolve(null);\n",
              "    };\n",
              "  });\n",
              "\n",
              "  // Wait for the user to pick the files.\n",
              "  const files = yield {\n",
              "    promise: Promise.race([pickedPromise, cancelPromise]),\n",
              "    response: {\n",
              "      action: 'starting',\n",
              "    }\n",
              "  };\n",
              "\n",
              "  cancel.remove();\n",
              "\n",
              "  // Disable the input element since further picks are not allowed.\n",
              "  inputElement.disabled = true;\n",
              "\n",
              "  if (!files) {\n",
              "    return {\n",
              "      response: {\n",
              "        action: 'complete',\n",
              "      }\n",
              "    };\n",
              "  }\n",
              "\n",
              "  for (const file of files) {\n",
              "    const li = document.createElement('li');\n",
              "    li.append(span(file.name, {fontWeight: 'bold'}));\n",
              "    li.append(span(\n",
              "        `(${file.type || 'n/a'}) - ${file.size} bytes, ` +\n",
              "        `last modified: ${\n",
              "            file.lastModifiedDate ? file.lastModifiedDate.toLocaleDateString() :\n",
              "                                    'n/a'} - `));\n",
              "    const percent = span('0% done');\n",
              "    li.appendChild(percent);\n",
              "\n",
              "    outputElement.appendChild(li);\n",
              "\n",
              "    const fileDataPromise = new Promise((resolve) => {\n",
              "      const reader = new FileReader();\n",
              "      reader.onload = (e) => {\n",
              "        resolve(e.target.result);\n",
              "      };\n",
              "      reader.readAsArrayBuffer(file);\n",
              "    });\n",
              "    // Wait for the data to be ready.\n",
              "    let fileData = yield {\n",
              "      promise: fileDataPromise,\n",
              "      response: {\n",
              "        action: 'continue',\n",
              "      }\n",
              "    };\n",
              "\n",
              "    // Use a chunked sending to avoid message size limits. See b/62115660.\n",
              "    let position = 0;\n",
              "    do {\n",
              "      const length = Math.min(fileData.byteLength - position, MAX_PAYLOAD_SIZE);\n",
              "      const chunk = new Uint8Array(fileData, position, length);\n",
              "      position += length;\n",
              "\n",
              "      const base64 = btoa(String.fromCharCode.apply(null, chunk));\n",
              "      yield {\n",
              "        response: {\n",
              "          action: 'append',\n",
              "          file: file.name,\n",
              "          data: base64,\n",
              "        },\n",
              "      };\n",
              "\n",
              "      let percentDone = fileData.byteLength === 0 ?\n",
              "          100 :\n",
              "          Math.round((position / fileData.byteLength) * 100);\n",
              "      percent.textContent = `${percentDone}% done`;\n",
              "\n",
              "    } while (position < fileData.byteLength);\n",
              "  }\n",
              "\n",
              "  // All done.\n",
              "  yield {\n",
              "    response: {\n",
              "      action: 'complete',\n",
              "    }\n",
              "  };\n",
              "}\n",
              "\n",
              "scope.google = scope.google || {};\n",
              "scope.google.colab = scope.google.colab || {};\n",
              "scope.google.colab._files = {\n",
              "  _uploadFiles,\n",
              "  _uploadFilesContinue,\n",
              "};\n",
              "})(self);\n",
              "</script> "
            ]
          },
          "metadata": {}
        },
        {
          "output_type": "stream",
          "name": "stdout",
          "text": [
            "Saving lena-sobel.txt to lena-sobel.txt\n"
          ]
        }
      ]
    },
    {
      "cell_type": "code",
      "execution_count": 3,
      "id": "c28aacbd",
      "metadata": {
        "id": "c28aacbd"
      },
      "outputs": [],
      "source": [
        "import numpy as np\n",
        "import cv2\n",
        "import matplotlib.pyplot as plt\n",
        "import torch\n",
        "import torch.nn as nn\n",
        "import torch.optim as optim\n",
        "import torch.nn.functional as F"
      ]
    },
    {
      "cell_type": "code",
      "execution_count": 4,
      "id": "b4aa01b2",
      "metadata": {
        "lines_to_next_cell": 1,
        "id": "b4aa01b2",
        "outputId": "0a2a3bbb-8f37-4956-feb1-e286669025b3",
        "colab": {
          "base_uri": "https://localhost:8080/"
        }
      },
      "outputs": [
        {
          "output_type": "stream",
          "name": "stdout",
          "text": [
            "torch.Size([1, 1, 512, 512])\n",
            "torch.Size([1, 1, 512, 512])\n"
          ]
        }
      ],
      "source": [
        "# load samples (single image provides many samples for edge detection)\n",
        "sample_inp = cv2.imread('lena.jpg',cv2.IMREAD_GRAYSCALE)\n",
        "sample_out = np.loadtxt('lena-sobel.txt', dtype=np.float32)\n",
        "rows,cols = sample_inp.shape\n",
        "samples_inp = torch.from_numpy(sample_inp).float().unsqueeze(0).unsqueeze(0)\n",
        "samples_out = torch.from_numpy(sample_out).float().unsqueeze(0).unsqueeze(0)\n",
        "print(samples_inp.shape)\n",
        "print(samples_out.shape)"
      ]
    },
    {
      "cell_type": "code",
      "execution_count": null,
      "id": "73b3c51a",
      "metadata": {
        "lines_to_next_cell": 1,
        "id": "73b3c51a"
      },
      "outputs": [],
      "source": [
        "# define the model\n",
        "class SobelFilter(nn.Module):\n",
        "    # initialization\n",
        "    def __init__(self):\n",
        "        super().__init__()\n",
        "        self.conv = nn.Conv2d(1,1,(3,3),bias=False,padding=1)\n",
        "    # forward\n",
        "    def forward(self, x):\n",
        "        return self.conv(x)"
      ]
    },
    {
      "cell_type": "code",
      "execution_count": null,
      "id": "478d8ec0",
      "metadata": {
        "id": "478d8ec0"
      },
      "outputs": [],
      "source": [
        "model = SobelFilter()"
      ]
    },
    {
      "cell_type": "code",
      "execution_count": null,
      "id": "c56b5815",
      "metadata": {
        "id": "c56b5815"
      },
      "outputs": [],
      "source": [
        "# Define loss function\n",
        "loss_function = nn.MSELoss(reduction='sum')"
      ]
    },
    {
      "cell_type": "code",
      "execution_count": null,
      "id": "0c3e12bc",
      "metadata": {
        "id": "0c3e12bc"
      },
      "outputs": [],
      "source": [
        "# Define optimizer\n",
        "optimizer = optim.Adam(model.parameters())"
      ]
    },
    {
      "cell_type": "code",
      "execution_count": null,
      "id": "90204f79",
      "metadata": {
        "id": "90204f79"
      },
      "outputs": [],
      "source": [
        "# Training\n",
        "num_epochs = 12500"
      ]
    },
    {
      "cell_type": "code",
      "execution_count": null,
      "id": "18dfe8ba",
      "metadata": {
        "id": "18dfe8ba"
      },
      "outputs": [],
      "source": [
        "for t in range(num_epochs):\n",
        "    # Forward pass\n",
        "    out = model(samples_inp)\n",
        "    loss = loss_function(out, samples_out)\n",
        "    if t % 100 == 0:\n",
        "        print(t, loss.item())\n",
        "    # Reset gradients\n",
        "    optimizer.zero_grad()\n",
        "    # Backward pass\n",
        "    loss.backward()\n",
        "    # Update model parameters (weights)\n",
        "    optimizer.step()"
      ]
    },
    {
      "cell_type": "code",
      "execution_count": null,
      "id": "5ccd0d45",
      "metadata": {
        "id": "5ccd0d45"
      },
      "outputs": [],
      "source": [
        "# Print weighs\n",
        "for param in model.parameters():\n",
        "    print(param.data)"
      ]
    },
    {
      "cell_type": "code",
      "execution_count": null,
      "id": "f54e59bb",
      "metadata": {
        "id": "f54e59bb"
      },
      "outputs": [],
      "source": [
        "output_images = model(samples_inp)"
      ]
    },
    {
      "cell_type": "code",
      "execution_count": null,
      "id": "eb95c92d",
      "metadata": {
        "id": "eb95c92d"
      },
      "outputs": [],
      "source": [
        "output_image = output_images[0]\n",
        "output_image = output_image.squeeze(0)\n",
        "output_image = output_image.detach().numpy()\n",
        "print(output_image.shape)\n",
        "print(np.amax(output_image))\n",
        "print(np.amin(output_image))"
      ]
    },
    {
      "cell_type": "code",
      "execution_count": null,
      "id": "0d895a97",
      "metadata": {
        "id": "0d895a97"
      },
      "outputs": [],
      "source": [
        "output_image = abs(output_image);\n",
        "output_image = cv2.normalize(output_image,None,0,255,cv2.NORM_MINMAX)\n",
        "output_image = np.uint8(output_image)\n",
        "cv2.imwrite('lena-sobel2.jpg',output_image)"
      ]
    },
    {
      "cell_type": "code",
      "execution_count": null,
      "id": "8a0a27fb",
      "metadata": {
        "id": "8a0a27fb"
      },
      "outputs": [],
      "source": [
        "plt.imshow(output_image, cmap='gray')\n",
        "plt.show()"
      ]
    },
    {
      "cell_type": "code",
      "execution_count": null,
      "id": "9e233e33",
      "metadata": {
        "id": "9e233e33"
      },
      "outputs": [],
      "source": [
        "# save the model\n",
        "torch.save(model.state_dict(), 'sobel.pth') # weights only"
      ]
    },
    {
      "cell_type": "code",
      "source": [
        "from google.colab import files\n",
        "files.download('lena-sobel2.jpg')\n",
        "files.download('sobel.pth')"
      ],
      "metadata": {
        "id": "ESIi6-dEdq5O"
      },
      "id": "ESIi6-dEdq5O",
      "execution_count": null,
      "outputs": []
    }
  ],
  "metadata": {
    "jupytext": {
      "cell_metadata_filter": "-all",
      "main_language": "python",
      "notebook_metadata_filter": "-all"
    },
    "kernelspec": {
      "display_name": "Python 3",
      "name": "python3"
    },
    "language_info": {
      "codemirror_mode": {
        "name": "ipython",
        "version": 3
      },
      "file_extension": ".py",
      "mimetype": "text/x-python",
      "name": "python",
      "nbconvert_exporter": "python",
      "pygments_lexer": "ipython3",
      "version": "3.9.0"
    },
    "colab": {
      "provenance": [],
      "gpuType": "T4",
      "include_colab_link": true
    },
    "accelerator": "GPU"
  },
  "nbformat": 4,
  "nbformat_minor": 5
}