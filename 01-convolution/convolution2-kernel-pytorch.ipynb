{
  "cells": [
    {
      "cell_type": "markdown",
      "metadata": {
        "id": "view-in-github",
        "colab_type": "text"
      },
      "source": [
        "<a href=\"https://colab.research.google.com/github/rpimaster/OAI/blob/main/01-convolution/convolution2-kernel-pytorch.ipynb\" target=\"_parent\"><img src=\"https://colab.research.google.com/assets/colab-badge.svg\" alt=\"Open In Colab\"/></a>"
      ]
    },
    {
      "cell_type": "code",
      "execution_count": null,
      "id": "72950431",
      "metadata": {
        "lines_to_next_cell": 1,
        "id": "72950431"
      },
      "outputs": [],
      "source": [
        "import numpy as np\n",
        "import cv2\n",
        "import matplotlib.pyplot as plt\n",
        "import torch\n",
        "import torch.nn as nn\n",
        "import torch.optim as optim\n",
        "import torch.nn.functional as F"
      ]
    },
    {
      "cell_type": "code",
      "execution_count": null,
      "id": "27f7228c",
      "metadata": {
        "lines_to_next_cell": 1,
        "id": "27f7228c"
      },
      "outputs": [],
      "source": [
        "class SobelFilter(nn.Module):\n",
        "    # initialization\n",
        "    def __init__(self):\n",
        "        super().__init__()\n",
        "        self.conv = nn.Conv2d(1,1,(3,3),bias=False,padding=1)\n",
        "    # forward\n",
        "    def forward(self, x):\n",
        "        return self.conv(x)"
      ]
    },
    {
      "cell_type": "code",
      "execution_count": null,
      "id": "95bba719",
      "metadata": {
        "id": "95bba719"
      },
      "outputs": [],
      "source": [
        "model = SobelFilter()\n",
        "layers = [layer for layer in model.parameters()]\n",
        "print(len(layers))\n",
        "print(layers[0].data)"
      ]
    },
    {
      "cell_type": "code",
      "execution_count": null,
      "id": "01aad67b",
      "metadata": {
        "id": "01aad67b"
      },
      "outputs": [],
      "source": [
        "w = torch.tensor([[[\n",
        "    [ -1.,  0.,  1.],\n",
        "    [ -2.,  0.,  2.],\n",
        "    [ -1.,  0.,  1.]\n",
        "    ]]])"
      ]
    },
    {
      "cell_type": "code",
      "source": [
        "w"
      ],
      "metadata": {
        "id": "pijxUlcIjbvU",
        "outputId": "34f0775b-b682-4299-e3b3-5a8c5cc8ccbc",
        "colab": {
          "base_uri": "https://localhost:8080/"
        }
      },
      "id": "pijxUlcIjbvU",
      "execution_count": 24,
      "outputs": [
        {
          "output_type": "execute_result",
          "data": {
            "text/plain": [
              "tensor([[[[-1.,  0.,  1.],\n",
              "          [-2.,  0.,  2.],\n",
              "          [-1.,  0.,  1.]]]])"
            ]
          },
          "metadata": {},
          "execution_count": 24
        }
      ]
    },
    {
      "cell_type": "code",
      "execution_count": null,
      "id": "1bcd89c5",
      "metadata": {
        "id": "1bcd89c5"
      },
      "outputs": [],
      "source": [
        "layers[0].data = w\n",
        "print(layers[0].data)"
      ]
    },
    {
      "cell_type": "code",
      "execution_count": null,
      "id": "2cbd44f4",
      "metadata": {
        "id": "2cbd44f4"
      },
      "outputs": [],
      "source": [
        "input_images = torch.tensor([[[\n",
        "    [1,1,1,1,1],\n",
        "    [1,1,1,1,1],\n",
        "    [1,1,1,1,1],\n",
        "    [1,1,1,1,1],\n",
        "    [1,1,1,1,1],\n",
        "    ]]],dtype=torch.float)"
      ]
    },
    {
      "cell_type": "code",
      "execution_count": null,
      "id": "34ea7c2c",
      "metadata": {
        "id": "34ea7c2c"
      },
      "outputs": [],
      "source": [
        "output_images = model(input_images)\n",
        "print(output_images[0])"
      ]
    },
    {
      "cell_type": "code",
      "execution_count": null,
      "id": "ea63424f",
      "metadata": {
        "id": "ea63424f"
      },
      "outputs": [],
      "source": [
        "input_images = torch.tensor([[[\n",
        "    [1,1,0,0,0],\n",
        "    [1,1,0,0,0],\n",
        "    [1,1,0,0,0],\n",
        "    [1,1,0,0,0],\n",
        "    [1,1,0,0,0]\n",
        "    ]]],dtype=torch.float)"
      ]
    },
    {
      "cell_type": "code",
      "execution_count": null,
      "id": "63add463",
      "metadata": {
        "id": "63add463"
      },
      "outputs": [],
      "source": [
        "output_images = model(input_images)\n",
        "print(output_images[0])"
      ]
    },
    {
      "cell_type": "code",
      "execution_count": null,
      "id": "fe1f55c4",
      "metadata": {
        "id": "fe1f55c4"
      },
      "outputs": [],
      "source": [
        "!test -f lena.jpg || wget https://raw.githubusercontent.com/opencv/opencv/master/samples/data/lena.jpg\n",
        "image = cv2.imread('lena.jpg',cv2.IMREAD_GRAYSCALE)\n",
        "plt.imshow(image, cmap='gray')\n",
        "plt.show()"
      ]
    },
    {
      "cell_type": "code",
      "execution_count": null,
      "id": "54f3ee7e",
      "metadata": {
        "id": "54f3ee7e"
      },
      "outputs": [],
      "source": [
        "image.shape\n",
        "rows,cols = image.shape"
      ]
    },
    {
      "cell_type": "code",
      "execution_count": null,
      "id": "599ea921",
      "metadata": {
        "id": "599ea921"
      },
      "outputs": [],
      "source": [
        "input_image = torch.from_numpy(image)\n",
        "input_image = input_image.unsqueeze(0).float()\n",
        "input_images = input_image.unsqueeze(0)\n",
        "input_images.shape"
      ]
    },
    {
      "cell_type": "code",
      "execution_count": null,
      "id": "47b05c80",
      "metadata": {
        "id": "47b05c80"
      },
      "outputs": [],
      "source": [
        "output_images = model(input_images)"
      ]
    },
    {
      "cell_type": "code",
      "execution_count": null,
      "id": "b2fc2e10",
      "metadata": {
        "id": "b2fc2e10"
      },
      "outputs": [],
      "source": [
        "output_image = output_images[0]\n",
        "output_image = output_image.squeeze(0)\n",
        "output_image = output_image.detach().numpy()\n",
        "print(output_image.shape)\n",
        "print(np.amax(output_image))\n",
        "print(np.amin(output_image))"
      ]
    },
    {
      "cell_type": "code",
      "execution_count": null,
      "id": "83ed2b7e",
      "metadata": {
        "id": "83ed2b7e"
      },
      "outputs": [],
      "source": [
        "np.savetxt('lena-sobel.txt', output_image, fmt='%f')"
      ]
    },
    {
      "cell_type": "code",
      "execution_count": null,
      "id": "dfc37ae1",
      "metadata": {
        "id": "dfc37ae1"
      },
      "outputs": [],
      "source": [
        "output_image = abs(output_image);\n",
        "output_image = cv2.normalize(output_image,None,0,255,cv2.NORM_MINMAX)\n",
        "output_image = np.uint8(output_image)\n",
        "cv2.imwrite('lena-sobel.jpg',output_image)"
      ]
    },
    {
      "cell_type": "code",
      "execution_count": null,
      "id": "28dfd96e",
      "metadata": {
        "id": "28dfd96e"
      },
      "outputs": [],
      "source": [
        "plt.imshow(output_image, cmap='gray')\n",
        "plt.show()"
      ]
    },
    {
      "cell_type": "code",
      "source": [
        "from google.colab import files\n",
        "files.download('lena-sobel.txt')\n",
        "files.download('lena-sobel.jpg')\n"
      ],
      "metadata": {
        "id": "6_GoZHYOcKJO"
      },
      "id": "6_GoZHYOcKJO",
      "execution_count": null,
      "outputs": []
    }
  ],
  "metadata": {
    "jupytext": {
      "cell_metadata_filter": "-all",
      "main_language": "python",
      "notebook_metadata_filter": "-all"
    },
    "kernelspec": {
      "display_name": "Python 3 (ipykernel)",
      "language": "python",
      "name": "python3"
    },
    "language_info": {
      "codemirror_mode": {
        "name": "ipython",
        "version": 3
      },
      "file_extension": ".py",
      "mimetype": "text/x-python",
      "name": "python",
      "nbconvert_exporter": "python",
      "pygments_lexer": "ipython3",
      "version": "3.9.0"
    },
    "colab": {
      "provenance": [],
      "include_colab_link": true
    }
  },
  "nbformat": 4,
  "nbformat_minor": 5
}